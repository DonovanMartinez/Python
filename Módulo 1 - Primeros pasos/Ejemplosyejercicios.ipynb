{
 "cells": [
  {
   "cell_type": "code",
   "execution_count": 3,
   "metadata": {},
   "outputs": [
    {
     "name": "stdout",
     "output_type": "stream",
     "text": [
      "hola explorer\n"
     ]
    }
   ],
   "source": [
    "print('hola explorer')"
   ]
  },
  {
   "cell_type": "code",
   "execution_count": 6,
   "metadata": {},
   "outputs": [
    {
     "name": "stdout",
     "output_type": "stream",
     "text": [
      "Hola explorers\n"
     ]
    }
   ],
   "source": [
    "msg = 'Hola explorers'\n",
    "print(msg)"
   ]
  },
  {
   "cell_type": "code",
   "execution_count": 7,
   "metadata": {},
   "outputs": [
    {
     "name": "stdout",
     "output_type": "stream",
     "text": [
      "Hola Explorers\n"
     ]
    }
   ],
   "source": [
    "## Hola con una variable\n",
    "\n",
    "msg = 'Hola Explorers'\n",
    "print(msg)"
   ]
  },
  {
   "cell_type": "markdown",
   "metadata": {},
   "source": [
    "# Programando Hotcakes"
   ]
  },
  {
   "cell_type": "code",
   "execution_count": 7,
   "metadata": {},
   "outputs": [],
   "source": [
    "titulo = 'Programando Hotcakes'\n",
    "\n",
    "huevo = 3\n",
    "leche = 1.5\n",
    "mantequilla = 0.045\n",
    "harina = 3\n",
    "cditaVanilla = 0.015\n",
    "\n",
    "# Asignacion de variables\n"
   ]
  },
  {
   "cell_type": "code",
   "execution_count": 2,
   "metadata": {},
   "outputs": [
    {
     "name": "stdout",
     "output_type": "stream",
     "text": [
      "1.5\n"
     ]
    }
   ],
   "source": [
    "print(leche)"
   ]
  },
  {
   "cell_type": "code",
   "execution_count": 3,
   "metadata": {},
   "outputs": [
    {
     "name": "stdout",
     "output_type": "stream",
     "text": [
      "3\n"
     ]
    }
   ],
   "source": [
    "print(huevo)\n"
   ]
  },
  {
   "cell_type": "code",
   "execution_count": 4,
   "metadata": {},
   "outputs": [
    {
     "name": "stdout",
     "output_type": "stream",
     "text": [
      "cantidad de leche: 1.5\n"
     ]
    }
   ],
   "source": [
    "print('cantidad de leche: ' + str(leche))"
   ]
  },
  {
   "cell_type": "code",
   "execution_count": 6,
   "metadata": {},
   "outputs": [
    {
     "name": "stdout",
     "output_type": "stream",
     "text": [
      "cantidad de leche: 1.5 cantidad de huevo:3\n"
     ]
    }
   ],
   "source": [
    "print('cantidad de leche: ' + str(leche) + ' cantidad de huevo:' + str(huevo))"
   ]
  },
  {
   "cell_type": "code",
   "execution_count": 8,
   "metadata": {},
   "outputs": [
    {
     "name": "stdout",
     "output_type": "stream",
     "text": [
      "cantidad de leche: 1.5\n",
      "cantidad de huevo:3\n"
     ]
    }
   ],
   "source": [
    "print('cantidad de leche: ' + str(leche) + '\\ncantidad de huevo:' + str(huevo))"
   ]
  },
  {
   "cell_type": "code",
   "execution_count": 10,
   "metadata": {},
   "outputs": [
    {
     "name": "stdout",
     "output_type": "stream",
     "text": [
      "7.56\n"
     ]
    }
   ],
   "source": [
    "# Mezclasmos los ingredientes\n",
    "\n",
    "mezcla = huevo + leche + harina + mantequilla + cditaVanilla\n",
    "print(mezcla)\n"
   ]
  },
  {
   "cell_type": "code",
   "execution_count": 8,
   "metadata": {},
   "outputs": [
    {
     "name": "stdout",
     "output_type": "stream",
     "text": [
      "La cantidad de huevo no es correcta\n"
     ]
    }
   ],
   "source": [
    "# Reglas - Verificacion (que la cantidad sea correcta)\n",
    "\n",
    "# huevo = 3\n",
    "# leche = 1.5\n",
    "# mantequilla = 0.045\n",
    "# harina = 3\n",
    "# cditaVanilla = 0.015\n",
    "\n",
    "if (huevo == 3 ):\n",
    "    print('La cantidad de huevo no es correcta')\n",
    "elif (leche == 1.5):\n",
    "    print('La cantidad de leche no es correcta')\n",
    "elif (mantequilla == 0.015):\n",
    "    print('La cantidad de mantequilla no es correcta')\n",
    "else:\n",
    "    print('Revisa tus ingredientes')\n",
    "    "
   ]
  },
  {
   "cell_type": "code",
   "execution_count": 14,
   "metadata": {},
   "outputs": [
    {
     "name": "stdout",
     "output_type": "stream",
     "text": [
      "la mezcla alcanzo para 2.52 hotcakes por persona\n"
     ]
    }
   ],
   "source": [
    "# Repartirlos\n",
    "porcion = mezcla/3\n",
    "print('la mezcla alcanzo para '+ str(porcion)+ ' hotcakes por persona')\n"
   ]
  },
  {
   "cell_type": "markdown",
   "metadata": {},
   "source": [
    "## Cadenas\n",
    "\n",
    "Serie de caracteres, entre comillas dobles \"\" o simples ''"
   ]
  },
  {
   "cell_type": "code",
   "execution_count": 15,
   "metadata": {},
   "outputs": [
    {
     "name": "stdout",
     "output_type": "stream",
     "text": [
      "Donovan Martinez\n"
     ]
    }
   ],
   "source": [
    "name = 'Donovan Martinez'\n",
    "\n",
    "print(name.title())"
   ]
  },
  {
   "cell_type": "code",
   "execution_count": 16,
   "metadata": {},
   "outputs": [
    {
     "name": "stdout",
     "output_type": "stream",
     "text": [
      "DONOVAN MARTINEZ\n"
     ]
    }
   ],
   "source": [
    "print(name.upper())"
   ]
  },
  {
   "cell_type": "code",
   "execution_count": 17,
   "metadata": {},
   "outputs": [
    {
     "name": "stdout",
     "output_type": "stream",
     "text": [
      "donovan martinez\n"
     ]
    }
   ],
   "source": [
    "print(name.lower())"
   ]
  },
  {
   "cell_type": "code",
   "execution_count": 18,
   "metadata": {},
   "outputs": [
    {
     "name": "stdout",
     "output_type": "stream",
     "text": [
      "False\n",
      "Donovan Martinez\n"
     ]
    }
   ],
   "source": [
    "print(name.islower())\n",
    "print(name)"
   ]
  },
  {
   "cell_type": "code",
   "execution_count": 21,
   "metadata": {},
   "outputs": [
    {
     "name": "stdout",
     "output_type": "stream",
     "text": [
      "True\n",
      "donovan martinez\n"
     ]
    }
   ],
   "source": [
    "name = name.lower()\n",
    "print(name.islower())\n",
    "print(name)"
   ]
  },
  {
   "cell_type": "code",
   "execution_count": 45,
   "metadata": {},
   "outputs": [
    {
     "name": "stdout",
     "output_type": "stream",
     "text": [
      "Donovan           Marinez\n"
     ]
    }
   ],
   "source": [
    "first_name = 'Donovan'\n",
    "last_name = '           Marinez'\n",
    "\n",
    "print(first_name+ \"\" + last_name)\n"
   ]
  },
  {
   "cell_type": "code",
   "execution_count": 40,
   "metadata": {},
   "outputs": [
    {
     "name": "stdout",
     "output_type": "stream",
     "text": [
      "Marinez\n"
     ]
    }
   ],
   "source": [
    "#Quita todos los espacios\n",
    "\n",
    "last_name = last_name.strip()\n",
    "print(last_name)\n",
    "\n"
   ]
  },
  {
   "cell_type": "code",
   "execution_count": 49,
   "metadata": {},
   "outputs": [
    {
     "name": "stdout",
     "output_type": "stream",
     "text": [
      "Marinez     \n"
     ]
    }
   ],
   "source": [
    "last_name = '           Marinez     '\n",
    "last_name = last_name.lstrip()\n",
    "print(last_name)"
   ]
  },
  {
   "cell_type": "code",
   "execution_count": 50,
   "metadata": {},
   "outputs": [
    {
     "name": "stdout",
     "output_type": "stream",
     "text": [
      "Marinez\n"
     ]
    }
   ],
   "source": [
    "last_name = last_name.rstrip()\n",
    "\n",
    "print(last_name)\n"
   ]
  },
  {
   "cell_type": "code",
   "execution_count": 51,
   "metadata": {},
   "outputs": [
    {
     "name": "stdout",
     "output_type": "stream",
     "text": [
      "Dovan Martinez\n"
     ]
    }
   ],
   "source": [
    "# Usando variable  en cadena\n",
    "\n",
    "nombre = 'Dovan'\n",
    "apellido = 'Martinez'\n",
    "nombre_completo = f'{nombre} {apellido}'\n",
    "print(nombre_completo)"
   ]
  },
  {
   "cell_type": "markdown",
   "metadata": {},
   "source": [
    "## Listas \n",
    " Almacena una serie de elementos"
   ]
  },
  {
   "cell_type": "markdown",
   "metadata": {},
   "source": []
  },
  {
   "cell_type": "code",
   "execution_count": 99,
   "metadata": {},
   "outputs": [],
   "source": [
    "ingredientes = ['huevo','harina','leche']"
   ]
  },
  {
   "cell_type": "code",
   "execution_count": 57,
   "metadata": {},
   "outputs": [
    {
     "data": {
      "text/plain": [
       "'huevo'"
      ]
     },
     "execution_count": 57,
     "metadata": {},
     "output_type": "execute_result"
    }
   ],
   "source": [
    "# Prime elemento\n",
    "\n",
    "ingredientes[0]"
   ]
  },
  {
   "cell_type": "code",
   "execution_count": 59,
   "metadata": {},
   "outputs": [
    {
     "data": {
      "text/plain": [
       "'leche'"
      ]
     },
     "execution_count": 59,
     "metadata": {},
     "output_type": "execute_result"
    }
   ],
   "source": [
    "# Ultimo elemento\n",
    "ingredientes[-1]"
   ]
  },
  {
   "cell_type": "code",
   "execution_count": 100,
   "metadata": {},
   "outputs": [
    {
     "name": "stdout",
     "output_type": "stream",
     "text": [
      "['huevo', 'harina', 'leche', 'mantequilla']\n"
     ]
    }
   ],
   "source": [
    "#Agregar ingredinetes\n",
    "\n",
    "ingredientes.append('mantequilla')\n",
    "print(ingredientes)"
   ]
  },
  {
   "cell_type": "code",
   "execution_count": 101,
   "metadata": {},
   "outputs": [
    {
     "name": "stdout",
     "output_type": "stream",
     "text": [
      "['huevo', 'harina', 'cditaVainilla', 'leche', 'mantequilla']\n"
     ]
    }
   ],
   "source": [
    "ingredientes.insert(2, 'cditaVainilla')\n",
    "print(ingredientes)"
   ]
  },
  {
   "cell_type": "code",
   "execution_count": 102,
   "metadata": {},
   "outputs": [
    {
     "name": "stdout",
     "output_type": "stream",
     "text": [
      "['huevo', 'harina', 'cditaVainilla', 'mantequilla']\n"
     ]
    }
   ],
   "source": [
    "ingredientes.pop(3)\n",
    "print(ingredientes)"
   ]
  },
  {
   "cell_type": "code",
   "execution_count": 103,
   "metadata": {},
   "outputs": [
    {
     "name": "stdout",
     "output_type": "stream",
     "text": [
      "['huevo', 'cditaVainilla', 'mantequilla']\n"
     ]
    }
   ],
   "source": [
    "ingredientes.remove('harina')\n",
    "\n",
    "print(ingredientes)"
   ]
  },
  {
   "cell_type": "code",
   "execution_count": 104,
   "metadata": {},
   "outputs": [],
   "source": [
    "ingredientes.sort()"
   ]
  },
  {
   "cell_type": "code",
   "execution_count": 105,
   "metadata": {},
   "outputs": [
    {
     "name": "stdout",
     "output_type": "stream",
     "text": [
      "['cditaVainilla', 'huevo', 'mantequilla']\n"
     ]
    }
   ],
   "source": [
    "print(ingredientes)"
   ]
  },
  {
   "cell_type": "code",
   "execution_count": 106,
   "metadata": {},
   "outputs": [
    {
     "name": "stdout",
     "output_type": "stream",
     "text": [
      "['mantequilla', 'huevo', 'cditaVainilla']\n"
     ]
    }
   ],
   "source": [
    "ingredientes.reverse()\n",
    "print(ingredientes)"
   ]
  },
  {
   "cell_type": "code",
   "execution_count": 107,
   "metadata": {},
   "outputs": [
    {
     "data": {
      "text/plain": [
       "3"
      ]
     },
     "execution_count": 107,
     "metadata": {},
     "output_type": "execute_result"
    }
   ],
   "source": [
    "# Longitud\n",
    "len(ingredientes)"
   ]
  },
  {
   "cell_type": "code",
   "execution_count": 110,
   "metadata": {},
   "outputs": [
    {
     "name": "stdout",
     "output_type": "stream",
     "text": [
      "cditaVainilla\n"
     ]
    }
   ],
   "source": [
    "print(ingredientes[-1])"
   ]
  },
  {
   "cell_type": "code",
   "execution_count": 111,
   "metadata": {},
   "outputs": [],
   "source": [
    "\n",
    "primeros_dos = ingredientes[:2]"
   ]
  },
  {
   "cell_type": "code",
   "execution_count": 113,
   "metadata": {},
   "outputs": [
    {
     "name": "stdout",
     "output_type": "stream",
     "text": [
      "['mantequilla', 'huevo']\n"
     ]
    }
   ],
   "source": [
    "print(primeros_dos)"
   ]
  },
  {
   "cell_type": "code",
   "execution_count": 114,
   "metadata": {},
   "outputs": [],
   "source": [
    "copy_list = ingredientes[:]"
   ]
  },
  {
   "cell_type": "code",
   "execution_count": 115,
   "metadata": {},
   "outputs": [
    {
     "name": "stdout",
     "output_type": "stream",
     "text": [
      "['mantequilla', 'huevo', 'cditaVainilla']\n"
     ]
    }
   ],
   "source": [
    "print(copy_list)"
   ]
  },
  {
   "cell_type": "markdown",
   "metadata": {},
   "source": [
    "## Tuplas\n",
    "Son similares a las listas, pero los elementos de las tuplas no se puden duplicar"
   ]
  },
  {
   "cell_type": "code",
   "execution_count": 116,
   "metadata": {},
   "outputs": [],
   "source": [
    "dimensiones = (1080,720)"
   ]
  },
  {
   "cell_type": "code",
   "execution_count": 118,
   "metadata": {},
   "outputs": [
    {
     "name": "stdout",
     "output_type": "stream",
     "text": [
      "1080\n"
     ]
    }
   ],
   "source": [
    "print(dimensiones[0])"
   ]
  },
  {
   "cell_type": "code",
   "execution_count": 119,
   "metadata": {},
   "outputs": [
    {
     "name": "stdout",
     "output_type": "stream",
     "text": [
      "720\n"
     ]
    }
   ],
   "source": [
    "print(dimensiones[1])"
   ]
  },
  {
   "cell_type": "code",
   "execution_count": 123,
   "metadata": {},
   "outputs": [
    {
     "name": "stdout",
     "output_type": "stream",
     "text": [
      "dimensiones orginales\n",
      "1080\n",
      "720\n"
     ]
    }
   ],
   "source": [
    "print('dimensiones orginales')\n",
    "for dim in dimensiones:\n",
    "    print(dim)"
   ]
  },
  {
   "cell_type": "code",
   "execution_count": 125,
   "metadata": {},
   "outputs": [
    {
     "name": "stdout",
     "output_type": "stream",
     "text": [
      "(1080, 1080)\n"
     ]
    }
   ],
   "source": [
    "dimensiones = (1080, 1080)\n",
    "print(dimensiones)"
   ]
  },
  {
   "cell_type": "code",
   "execution_count": 127,
   "metadata": {},
   "outputs": [
    {
     "name": "stdout",
     "output_type": "stream",
     "text": [
      "1080\n",
      "1080\n"
     ]
    }
   ],
   "source": [
    "for d in dimensiones:\n",
    "    print(d)\n"
   ]
  },
  {
   "cell_type": "code",
   "execution_count": 129,
   "metadata": {},
   "outputs": [
    {
     "name": "stdout",
     "output_type": "stream",
     "text": [
      "añadiendo ingredientes a la orden: crema de chocolate\n",
      "añadiendo ingredientes a la orden: chispas\n",
      "añadiendo ingredientes a la orden: relleno de crema\n",
      "añadiendo ingredientes a la orden: chispas\n",
      "añadiendo ingredientes a la orden: nueces\n",
      "\n",
      " tu cupcake esta listo\n"
     ]
    }
   ],
   "source": [
    "## Cupcake decoracion\n",
    "el_cliente_quiere = ['crema de chocolate', 'chispas', 'relleno de crema','chispas','nueces']\n",
    "for extra in el_cliente_quiere:\n",
    "    print(f'añadiendo ingredientes a la orden: {extra}')\n",
    "\n",
    "print('\\n tu cupcake esta listo')"
   ]
  },
  {
   "cell_type": "code",
   "execution_count": 134,
   "metadata": {},
   "outputs": [
    {
     "name": "stdout",
     "output_type": "stream",
     "text": [
      "Añadiendo ingredientes a la orden: crema de chocolate\n",
      "Añadiendo ingredientes a la orden: chispas\n",
      "Añadiendo ingredientes a la orden: relleno de crema\n",
      "Añadiendo ingredientes a la orden: chispas\n",
      "lo sentimos, no tenemos nueces, puedes agregar almendras:\n",
      "\n",
      " Tu cupcake esta listo\n"
     ]
    }
   ],
   "source": [
    "el_cliente_quiere = ['crema de chocolate', 'chispas', 'relleno de crema','chispas','nueces']\n",
    "for extra in el_cliente_quiere:\n",
    "    if extra == 'nueces':\n",
    "        print('lo sentimos, no tenemos nueces, puedes agregar almendras:')\n",
    "    else:\n",
    "        print(f'Añadiendo ingredientes a la orden: {extra}')\n",
    "    \n",
    "print('\\n Tu cupcake esta listo' ) "
   ]
  },
  {
   "cell_type": "code",
   "execution_count": 135,
   "metadata": {},
   "outputs": [
    {
     "name": "stdout",
     "output_type": "stream",
     "text": [
      "Añadiendo crema de chocolate\n",
      "Añadiendo chispas\n",
      "Lo sentimo, no tenemos relleno de crema\n",
      "Añadiendo chispas\n",
      "Lo sentimo, no tenemos nueces\n",
      "\n",
      " Tu cupcake esta listo\n"
     ]
    }
   ],
   "source": [
    "# ¿Como podemos saber que ingredientes si estan disponibles?\n",
    "\n",
    "extras_disponibles = ['crema de chocolate', 'almendras', 'perlas', 'chispas', 'relleno de cremas', 'ralladura de limon', 'canela']\n",
    "\n",
    "el_cliente_quiere = ['crema de chocolate', 'chispas', 'relleno de crema','chispas','nueces']\n",
    "\n",
    "for extra in el_cliente_quiere:\n",
    "    if extra in extras_disponibles:\n",
    "        print(f'Añadiendo {extra}')\n",
    "    else:\n",
    "        print(f'Lo sentimo, no tenemos {extra}')\n",
    "print('\\n Tu cupcake esta listo')"
   ]
  },
  {
   "cell_type": "code",
   "execution_count": null,
   "metadata": {},
   "outputs": [],
   "source": []
  }
 ],
 "metadata": {
  "interpreter": {
   "hash": "0707943362b72acb32c3e1a499fdc5171186f8f4626ccd560daec0392ff13ce1"
  },
  "kernelspec": {
   "display_name": "Python 3.10.2 64-bit",
   "language": "python",
   "name": "python3"
  },
  "language_info": {
   "codemirror_mode": {
    "name": "ipython",
    "version": 3
   },
   "file_extension": ".py",
   "mimetype": "text/x-python",
   "name": "python",
   "nbconvert_exporter": "python",
   "pygments_lexer": "ipython3",
   "version": "3.10.2"
  },
  "orig_nbformat": 4
 },
 "nbformat": 4,
 "nbformat_minor": 2
}
